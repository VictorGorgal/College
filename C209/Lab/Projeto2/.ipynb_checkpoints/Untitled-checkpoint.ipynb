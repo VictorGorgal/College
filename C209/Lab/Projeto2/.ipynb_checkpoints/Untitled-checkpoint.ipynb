{
 "cells": [
  {
   "cell_type": "markdown",
   "id": "1118ddd1-f126-4c45-87a5-ba4f0388fd85",
   "metadata": {},
   "source": [
    "### Etapas necessárias para modificar o vídeo\n",
    "\n",
    "- Primeiro importamos as bibliotecas, utilizaremos a versao 1.0.3 para a moviepy e 1.26.0 para o numpy\n",
    "- Depois iremos carregar o video do arquivo video.mp4\n",
    "- Depois iremos inverter o video no eixo a cada 20 segundos, para isso primeiro iremos cortar o video em trechos de 20 segundos e usando uma flag, iremos rotacionar os trechos necessários, apos isso iremos juntar todos os trechos de volta\n",
    "- Em seguinda, iremos diminuir o som a cada 30 segundos, para isso iremos multiplicar o som por 0.7 a cada 30 segundos, para evitar que o som seja mutado antes do fim do video. Os ultimos 10 segundos sao tratados diferentes, esse trecho é mutado e adicionado à lista de clips. Após isso, são concatenados os trechos de volta\n",
    "- Depois iremos cortar o trecho entre 60 e 80 segundos e anexá-lo no final do video, como esta etapa foi pedida por último, como efeito colateral, as ultimas alterações serão \"bagunçadas\", por exemplo os últimos 10 segundos que estão sem audio, agora estarão no meio do vídeo\n",
    "- Por último iremos salvar o video final no arquivo final.mp4"
   ]
  },
  {
   "cell_type": "code",
   "execution_count": 1,
   "id": "b7c1760f-00bf-4e4a-ab4d-f3ed45d126ce",
   "metadata": {},
   "outputs": [],
   "source": [
    "import moviepy.editor as mpe\n",
    "import numpy as np"
   ]
  },
  {
   "cell_type": "code",
   "execution_count": null,
   "id": "2e66dc22-b550-4ec7-abac-f9eaf2396e30",
   "metadata": {},
   "outputs": [],
   "source": [
    "video = mpe.VideoFileClip(\"video.mp4\")"
   ]
  },
  {
   "cell_type": "markdown",
   "id": "2a0bffb3-c134-4ced-bee4-bd0d6e3398be",
   "metadata": {},
   "source": [
    "### Inverter a imagem, no eixo, a cada 20 segundo"
   ]
  },
  {
   "cell_type": "code",
   "execution_count": 2,
   "id": "43ed1da6-988e-4aea-a566-9a7ea75c13ab",
   "metadata": {},
   "outputs": [],
   "source": [
    "intervalo = 20\n",
    "duracao = int(video.duration)\n",
    "subclips = []\n",
    "flip = False\n",
    "\n",
    "for comeco in range(0, duracao, intervalo):\n",
    "    fim = min(comeco + intervalo, duracao)\n",
    "    clip = video.subclip(comeco, fim)\n",
    "\n",
    "    if flip:\n",
    "        clip = clip.fl_image(lambda frame: np.fliplr(frame))\n",
    "\n",
    "    subclips.append(clip)\n",
    "    flip = not flip\n",
    "\n",
    "video = mpe.concatenate_videoclips(subclips)"
   ]
  },
  {
   "cell_type": "markdown",
   "id": "df69eccc-1136-45e1-b594-cdc809dedfb9",
   "metadata": {},
   "source": [
    "### Diminiur o som, de forma gradativa, a cada 30 segundos, de forma que os últimos 10 segundos fique em silêncio (sem som)\n"
   ]
  },
  {
   "cell_type": "code",
   "execution_count": 3,
   "id": "7015ded5-5189-4219-bb29-4c1efd39a5f1",
   "metadata": {},
   "outputs": [],
   "source": [
    "clips = []\n",
    "for start in range(0, duracao - 10, 30):\n",
    "    end = min(start + 30, duracao - 10)\n",
    "    factor = 0.7 ** ((start+1) // 30)\n",
    "    chunk = video.subclip(start, end).fx(mpe.afx.volumex, factor)\n",
    "    clips.append(chunk)\n",
    "\n",
    "clips.append(video.subclip(duracao - 10, duracao).fx(mpe.afx.volumex, 0.0))\n",
    "video = mpe.concatenate_videoclips(clips)"
   ]
  },
  {
   "cell_type": "markdown",
   "id": "2cb85a38-9a55-46e6-ba6c-b667d49c9c9c",
   "metadata": {},
   "source": [
    "### Após o primeiro minuto, 60 segundos, fazer um corte para o segundo 80 Por fim, insira os 20 segundos cortados no fim do video"
   ]
  },
  {
   "cell_type": "code",
   "execution_count": 4,
   "id": "aed05efe-fd36-4574-b0dd-e18269f5f22c",
   "metadata": {},
   "outputs": [],
   "source": [
    "parte1 = video.subclip(0, 60)\n",
    "parte2 = video.subclip(60, 80)\n",
    "parte3 = video.subclip(80, duracao)\n",
    "\n",
    "video = mpe.concatenate_videoclips([parte1, parte3, parte2])"
   ]
  },
  {
   "cell_type": "code",
   "execution_count": 5,
   "id": "9f9a7eb2-c10b-4911-9987-70bf8d6b17e3",
   "metadata": {},
   "outputs": [
    {
     "name": "stdout",
     "output_type": "stream",
     "text": [
      "Moviepy - Building video final.mp4.\n",
      "MoviePy - Writing audio in finalTEMP_MPY_wvf_snd.mp3\n"
     ]
    },
    {
     "name": "stderr",
     "output_type": "stream",
     "text": [
      "                                                                                                                       "
     ]
    },
    {
     "name": "stdout",
     "output_type": "stream",
     "text": [
      "MoviePy - Done.\n",
      "Moviepy - Writing video final.mp4\n",
      "\n"
     ]
    },
    {
     "name": "stderr",
     "output_type": "stream",
     "text": [
      "                                                                                                                       "
     ]
    },
    {
     "name": "stdout",
     "output_type": "stream",
     "text": [
      "Moviepy - Done !\n",
      "Moviepy - video ready final.mp4\n"
     ]
    }
   ],
   "source": [
    "video.write_videofile(\"final.mp4\")"
   ]
  }
 ],
 "metadata": {
  "kernelspec": {
   "display_name": "Python 3.11 (moviepy)",
   "language": "python",
   "name": "python311"
  },
  "language_info": {
   "codemirror_mode": {
    "name": "ipython",
    "version": 3
   },
   "file_extension": ".py",
   "mimetype": "text/x-python",
   "name": "python",
   "nbconvert_exporter": "python",
   "pygments_lexer": "ipython3",
   "version": "3.11.9"
  }
 },
 "nbformat": 4,
 "nbformat_minor": 5
}
