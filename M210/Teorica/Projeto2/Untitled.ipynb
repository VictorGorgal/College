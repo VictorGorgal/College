{
 "cells": [
  {
   "cell_type": "code",
   "execution_count": 1,
   "id": "fe1dd6df-cea7-4196-869b-884e14b7b07d",
   "metadata": {},
   "outputs": [],
   "source": [
    "def ler_float_lista(prompt, tamanho_esperado):\n",
    "    while True:\n",
    "        try:\n",
    "            valores = list(map(float, input(prompt).strip().split()))\n",
    "            if len(valores) != tamanho_esperado:\n",
    "                raise ValueError(f\"Insira {tamanho_esperado} valores.\")\n",
    "            return valores\n",
    "        except ValueError as e:\n",
    "            print(f\"Erro: {e}. Tente novamente.\")"
   ]
  },
  {
   "cell_type": "markdown",
   "id": "f88670d9-7dc4-4dfd-bb8c-7c1c7379799c",
   "metadata": {},
   "source": [
    "Z = 80\\*x1 + 70\\*x2 + 100\\*x3 + 16\\*x4\n",
    "\n",
    "x1 +  x2 +  x3 + 4x4 <= 250\n",
    "\n",
    "0x1 + x2 +  x3 + 2x4 <= 600\n",
    "      \n",
    "3x1 + 2x2 + 4x3      <= 500\n",
    "\n",
    "80 70 100 16\n",
    "\n",
    "1 1 1 4 <= 250\n",
    "\n",
    "0 1 1 2 <= 600\n",
    "\n",
    "3 2 4 0 <= 500"
   ]
  },
  {
   "cell_type": "code",
   "execution_count": 2,
   "id": "31543957-6953-471b-a687-4e51983bb8a0",
   "metadata": {},
   "outputs": [
    {
     "name": "stdout",
     "output_type": "stream",
     "text": [
      "RESOLUÇÃO DE PPL COM MÉTODO SIMPLEX (MAXIMIZAÇÃO)\n",
      "--------------------------------------------------\n"
     ]
    },
    {
     "name": "stdin",
     "output_type": "stream",
     "text": [
      "Insira o número de variáveis de decisão:  4\n",
      "Insira o número de restrições:  3\n"
     ]
    },
    {
     "name": "stdout",
     "output_type": "stream",
     "text": [
      "\n",
      "Digite os coeficientes da função objetivo separados por espaço:\n"
     ]
    },
    {
     "name": "stdin",
     "output_type": "stream",
     "text": [
      "Ex: 80 70 100 16\n",
      " 80 70 100 16\n"
     ]
    },
    {
     "name": "stdout",
     "output_type": "stream",
     "text": [
      "\n",
      "Agora insira as restrições no formato:\n",
      "a1 a2 a3 ... an (com coeficientes separados por espaço)\n",
      "  Restrição 1:\n"
     ]
    },
    {
     "name": "stdin",
     "output_type": "stream",
     "text": [
      "    Coeficientes da restrição:  1 1 1 4\n",
      "    Termo independente (lado direito):  250\n"
     ]
    },
    {
     "name": "stdout",
     "output_type": "stream",
     "text": [
      "  Restrição 2:\n"
     ]
    },
    {
     "name": "stdin",
     "output_type": "stream",
     "text": [
      "    Coeficientes da restrição:  0 1 1 2\n",
      "    Termo independente (lado direito):  600\n"
     ]
    },
    {
     "name": "stdout",
     "output_type": "stream",
     "text": [
      "  Restrição 3:\n"
     ]
    },
    {
     "name": "stdin",
     "output_type": "stream",
     "text": [
      "    Coeficientes da restrição:  3 2 4 0\n",
      "    Termo independente (lado direito):  500\n"
     ]
    }
   ],
   "source": [
    "print(\"RESOLUÇÃO DE PPL COM MÉTODO SIMPLEX (MAXIMIZAÇÃO)\")\n",
    "print(\"-\" * 50)\n",
    "\n",
    "num_variaveis = int(input(\"Insira o número de variáveis de decisão: \"))\n",
    "num_restricoes = int(input(\"Insira o número de restrições: \"))\n",
    "\n",
    "print(\"\\nDigite os coeficientes da função objetivo separados por espaço:\")\n",
    "c = ler_float_lista(\"Ex: 80 70 100 16\\n\", num_variaveis)\n",
    "\n",
    "A = []\n",
    "b = []\n",
    "print(\"\\nAgora insira as restrições no formato:\")\n",
    "print(\"a1 a2 a3 ... an (com coeficientes separados por espaço)\")\n",
    "\n",
    "for i in range(num_restricoes):\n",
    "    print(f\"  Restrição {i + 1}:\")\n",
    "    linha = ler_float_lista(\"    Coeficientes da restrição: \", num_variaveis)\n",
    "    bi = float(input(\"    Termo independente (lado direito): \"))\n",
    "    A.append(linha)\n",
    "    b.append(bi)"
   ]
  },
  {
   "cell_type": "code",
   "execution_count": 18,
   "id": "c5492b44-5300-411a-b1dc-a1664ee10a97",
   "metadata": {},
   "outputs": [],
   "source": [
    "class SimplexSolver:\n",
    "    def __init__(self, c, A, b):\n",
    "        \"\"\"\n",
    "        c: Coeficientes da função objetivo (maximização).\n",
    "        A: Coeficientes das restrições (<=).\n",
    "        b: Termos independentes das restrições.\n",
    "        \"\"\"\n",
    "        self.funcao_objetivo = c\n",
    "        self.restricoes = [linha + [0] * i + [1] + [0] * (len(b) - i - 1) for i, linha in enumerate(A)]\n",
    "        self.termos_independentes = b\n",
    "        self.num_variaveis = len(c)\n",
    "        self.num_restricoes = len(b)\n",
    "        self.tabela = self._construir_tabela(c)\n",
    "        self.variaveis_basicas = [self.num_variaveis + i for i in range(self.num_restricoes)]\n",
    "\n",
    "    def _construir_tabela(self, c):\n",
    "        tabela = [linha + [bi] for linha, bi in zip(self.restricoes, self.termos_independentes)]\n",
    "        linha_objetivo = [-ci for ci in c] + [0] * self.num_restricoes + [0]\n",
    "        tabela.append(linha_objetivo)\n",
    "        return tabela\n",
    "\n",
    "    def _pivoteamento(self, linha: int, coluna: int):\n",
    "        elemento_pivo = self.tabela[linha][coluna]\n",
    "        self.tabela[linha] = [v / elemento_pivo for v in self.tabela[linha]]\n",
    "\n",
    "        for r in range(len(self.tabela)):\n",
    "            if r == linha:\n",
    "                continue\n",
    "\n",
    "            fator = self.tabela[r][coluna]\n",
    "            self.tabela[r] = [\n",
    "                self.tabela[r][i] - fator * self.tabela[linha][i]\n",
    "                for i in range(len(self.tabela[0]))\n",
    "            ]\n",
    "\n",
    "    def resolver(self):\n",
    "        while True:\n",
    "            ultima_linha = self.tabela[-1][:-1]\n",
    "\n",
    "            if all(c >= 0 for c in ultima_linha):\n",
    "                break\n",
    "\n",
    "            coluna_pivo = ultima_linha.index(min(ultima_linha))\n",
    "            razoes = []\n",
    "\n",
    "            for i in range(self.num_restricoes):\n",
    "                if self.tabela[i][coluna_pivo] > 0:\n",
    "                    razoes.append(self.tabela[i][-1] / self.tabela[i][coluna_pivo])\n",
    "                else:\n",
    "                    razoes.append(float('inf'))\n",
    "\n",
    "            if all(r == float('inf') for r in razoes):\n",
    "                raise Exception(\"Solução ilimitada.\")\n",
    "\n",
    "            linha_pivo = razoes.index(min(razoes))\n",
    "            self.variaveis_basicas[linha_pivo] = coluna_pivo\n",
    "            self._pivoteamento(linha_pivo, coluna_pivo)\n",
    "\n",
    "    def get_solucao(self):\n",
    "        solucao = [0.0] * (self.num_variaveis + self.num_restricoes)\n",
    "\n",
    "        for i, var in enumerate(self.variaveis_basicas):\n",
    "            solucao[var] = self.tabela[i][-1]\n",
    "\n",
    "        return solucao[:self.num_variaveis], self.tabela[-1][-1]\n",
    "\n",
    "    def get_precos_sombra(self):\n",
    "        return self.tabela[-1][self.num_variaveis:self.num_variaveis + self.num_restricoes]\n",
    "\n",
    "    def analisar_variacao(self, delta_b):\n",
    "        novos_rhs = []\n",
    "        for i in range(self.num_restricoes):\n",
    "            temp = 0\n",
    "            for j in range(self.num_restricoes):\n",
    "                temp += self.tabela[i][j + len(self.funcao_objetivo)] * delta_b[j]\n",
    "            temp += self.tabela[i][-1]\n",
    "            novos_rhs.append(temp)\n",
    "\n",
    "        if all(novos_rhs[i] >= 0 for i in range(len(novos_rhs))):\n",
    "            precos_sombra = self.get_precos_sombra()\n",
    "            delta_z = sum(precos_sombra[i] * delta_b[i] for i in range(self.num_restricoes))\n",
    "            novo_z = self.tabela[-1][-1] + delta_z\n",
    "            return True, novo_z, precos_sombra\n",
    "\n",
    "        return False, 0, []"
   ]
  },
  {
   "cell_type": "code",
   "execution_count": null,
   "id": "685fdb80-7a27-43e7-8ded-6177871538da",
   "metadata": {},
   "outputs": [
    {
     "name": "stdout",
     "output_type": "stream",
     "text": [
      "\n",
      "Solução ótima encontrada:\n",
      "  x1 = 0.0000\n",
      "  x2 = 250.0000\n",
      "  x3 = 0.0000\n",
      "  x4 = 0.0000\n",
      "  Lucro ótimo (Z) = 17500.0000\n",
      "\n",
      "Preços-sombra:\n",
      "  Restrição 1: 40.0000\n",
      "  Restrição 2: 0.0000\n",
      "  Restrição 3: 15.0000\n",
      "\n",
      "Análise de variação:\n",
      "  Deseja testar alterações no lado direito das restrições (Δb)?\n"
     ]
    }
   ],
   "source": [
    "import numpy as np\n",
    "np.set_printoptions(precision=2, suppress=True)\n",
    "\n",
    "solver = SimplexSolver(c, A, b)\n",
    "solver.resolver()\n",
    "\n",
    "solucao, valor_otimo = solver.get_solucao()\n",
    "\n",
    "print(\"\\nSolução ótima encontrada:\")\n",
    "for i, val in enumerate(solucao):\n",
    "    print(f\"  x{i + 1} = {val:.4f}\")\n",
    "print(f\"  Lucro ótimo (Z) = {valor_otimo:.4f}\")\n",
    "print(\"\\nPreços-sombra:\")\n",
    "for i, ps in enumerate(solver.get_precos_sombra()):\n",
    "    print(f\"  Restrição {i + 1}: {ps:.4f}\")\n",
    "\n",
    "print(\"\\nAnálise de variação:\")\n",
    "print(\"  Deseja testar alterações no lado direito das restrições (Δb)?\")\n",
    "opcao = input(\"  (S para sim, qualquer outra tecla para sair): \").strip().upper()\n",
    "\n",
    "if opcao == \"S\":\n",
    "    delta_b = ler_float_lista(\"  Insira Δb para cada restrição: \", num_restricoes)\n",
    "    viavel, novo_z, precos_sombra = solver.analisar_variacao(delta_b)\n",
    "\n",
    "    if viavel:\n",
    "        print(\"\\nAlterações viáveis.\")\n",
    "        print(f\"  Novo lucro ótimo estimado: {novo_z:.4f}\")\n",
    "        print(\"  Preços-sombra continuam válidos.\")\n",
    "    else:\n",
    "        print(\"\\nA nova base não é viável com essas alterações.\")"
   ]
  },
  {
   "cell_type": "code",
   "execution_count": null,
   "id": "8b099fd2-9f13-48d5-a249-0ebba08da4cb",
   "metadata": {},
   "outputs": [],
   "source": []
  }
 ],
 "metadata": {
  "kernelspec": {
   "display_name": "Python 3 (ipykernel)",
   "language": "python",
   "name": "python3"
  },
  "language_info": {
   "codemirror_mode": {
    "name": "ipython",
    "version": 3
   },
   "file_extension": ".py",
   "mimetype": "text/x-python",
   "name": "python",
   "nbconvert_exporter": "python",
   "pygments_lexer": "ipython3",
   "version": "3.11.9"
  }
 },
 "nbformat": 4,
 "nbformat_minor": 5
}
