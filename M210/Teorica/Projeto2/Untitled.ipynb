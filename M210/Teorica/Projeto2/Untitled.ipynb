{
 "cells": [
  {
   "cell_type": "code",
   "execution_count": 3,
   "id": "fe1dd6df-cea7-4196-869b-884e14b7b07d",
   "metadata": {},
   "outputs": [],
   "source": [
    "def ler_float_lista(prompt, tamanho_esperado):\n",
    "    while True:\n",
    "        try:\n",
    "            valores = list(map(float, input(prompt).strip().split()))\n",
    "            if len(valores) != tamanho_esperado:\n",
    "                raise ValueError(f\"Insira {tamanho_esperado} valores.\")\n",
    "            return valores\n",
    "        except ValueError as e:\n",
    "            print(f\"Erro: {e}. Tente novamente.\")"
   ]
  },
  {
   "cell_type": "code",
   "execution_count": 4,
   "id": "085b1225-e862-4f9a-835d-461247262db8",
   "metadata": {},
   "outputs": [],
   "source": [
    "import numpy as np\n",
    "np.set_printoptions(precision=2, suppress=True)\n",
    "\n",
    "def imprimir_matriz(matriz):\n",
    "    print(np.array(matriz))"
   ]
  },
  {
   "cell_type": "markdown",
   "id": "f88670d9-7dc4-4dfd-bb8c-7c1c7379799c",
   "metadata": {},
   "source": [
    "Z = 80\\*x1 + 70\\*x2 + 100\\*x3 + 16\\*x4\n",
    "\n",
    "x1 +  x2 +  x3 + 4x4 <= 250\n",
    "\n",
    "0x1 + x2 +  x3 + 2x4 <= 600\n",
    "      \n",
    "3x1 + 2x2 + 4x3      <= 500\n",
    "\n",
    "80 70 100 16\n",
    "\n",
    "1 1 1 4 <= 250\n",
    "\n",
    "0 1 1 2 <= 600\n",
    "\n",
    "3 2 4 0 <= 500"
   ]
  },
  {
   "cell_type": "code",
   "execution_count": 5,
   "id": "31543957-6953-471b-a687-4e51983bb8a0",
   "metadata": {},
   "outputs": [
    {
     "name": "stdout",
     "output_type": "stream",
     "text": [
      "RESOLUÇÃO DE PPL COM MÉTODO SIMPLEX (MAXIMIZAÇÃO)\n",
      "--------------------------------------------------\n"
     ]
    },
    {
     "name": "stdin",
     "output_type": "stream",
     "text": [
      "Insira o número de variáveis de decisão:  4\n",
      "Insira o número de restrições:  3\n"
     ]
    },
    {
     "name": "stdout",
     "output_type": "stream",
     "text": [
      "\n",
      "Digite os coeficientes da função objetivo separados por espaço:\n"
     ]
    },
    {
     "name": "stdin",
     "output_type": "stream",
     "text": [
      "Ex: 80 70 100 16\n",
      " 80 70 100 16\n"
     ]
    },
    {
     "name": "stdout",
     "output_type": "stream",
     "text": [
      "\n",
      "Agora insira as restrições no formato:\n",
      "a1 a2 a3 ... an (com coeficientes separados por espaço)\n",
      "  Restrição 1:\n"
     ]
    },
    {
     "name": "stdin",
     "output_type": "stream",
     "text": [
      "    Coeficientes da restrição:  1 1 1 4\n",
      "    Termo independente (lado direito):  250\n"
     ]
    },
    {
     "name": "stdout",
     "output_type": "stream",
     "text": [
      "  Restrição 2:\n"
     ]
    },
    {
     "name": "stdin",
     "output_type": "stream",
     "text": [
      "    Coeficientes da restrição:  0 1 1 2\n",
      "    Termo independente (lado direito):  600\n"
     ]
    },
    {
     "name": "stdout",
     "output_type": "stream",
     "text": [
      "  Restrição 3:\n"
     ]
    },
    {
     "name": "stdin",
     "output_type": "stream",
     "text": [
      "    Coeficientes da restrição:  3 2 4 0\n",
      "    Termo independente (lado direito):  500\n"
     ]
    }
   ],
   "source": [
    "print(\"RESOLUÇÃO DE PPL COM MÉTODO SIMPLEX (MAXIMIZAÇÃO)\")\n",
    "print(\"-\" * 50)\n",
    "\n",
    "num_variaveis = int(input(\"Insira o número de variáveis de decisão: \"))\n",
    "num_restricoes = int(input(\"Insira o número de restrições: \"))\n",
    "\n",
    "print(\"\\nDigite os coeficientes da função objetivo separados por espaço:\")\n",
    "c = ler_float_lista(\"Ex: 80 70 100 16\\n\", num_variaveis)\n",
    "\n",
    "A = []\n",
    "b = []\n",
    "print(\"\\nAgora insira as restrições no formato:\")\n",
    "print(\"a1 a2 a3 ... an (com coeficientes separados por espaço)\")\n",
    "\n",
    "for i in range(num_restricoes):\n",
    "    print(f\"  Restrição {i + 1}:\")\n",
    "    linha = ler_float_lista(\"    Coeficientes da restrição: \", num_variaveis)\n",
    "    bi = float(input(\"    Termo independente (lado direito): \"))\n",
    "    A.append(linha)\n",
    "    b.append(bi)"
   ]
  },
  {
   "cell_type": "code",
   "execution_count": 45,
   "id": "1bcc7443-0d8b-4e60-8aa4-1ecd044bf0f7",
   "metadata": {},
   "outputs": [],
   "source": [
    "def construir_tabela(c):\n",
    "    tabela_local = [linha + [bi] for linha, bi in zip(restricoes, termos_independentes)]\n",
    "    linha_objetivo = [-ci for ci in c] + [0] * num_restricoes + [0]\n",
    "    tabela_local.append(linha_objetivo)\n",
    "    return tabela_local"
   ]
  },
  {
   "cell_type": "code",
   "execution_count": 46,
   "id": "77d76fbb-80bf-404b-a9af-2813e60ee740",
   "metadata": {},
   "outputs": [
    {
     "name": "stdout",
     "output_type": "stream",
     "text": [
      "[[   1.    1.    1.    4.    1.    0.    0.  250.]\n",
      " [   0.    1.    1.    2.    0.    1.    0.  600.]\n",
      " [   3.    2.    4.    0.    0.    0.    1.  500.]\n",
      " [ -80.  -70. -100.  -16.    0.    0.    0.    0.]]\n"
     ]
    }
   ],
   "source": [
    "funcao_objetivo = []\n",
    "restricoes = []\n",
    "termos_independentes = []\n",
    "num_variaveis = 0\n",
    "num_restricoes = 0\n",
    "tabela = []\n",
    "variaveis_basicas = []\n",
    "\n",
    "funcao_objetivo = c\n",
    "num_variaveis = len(c)\n",
    "num_restricoes = len(b)\n",
    "termos_independentes = b\n",
    "restricoes = [linha + [0] * i + [1] + [0] * (len(b) - i - 1) for i, linha in enumerate(A)]\n",
    "tabela = construir_tabela(c)\n",
    "variaveis_basicas = [num_variaveis + i for i in range(num_restricoes)]\n",
    "\n",
    "imprimir_matriz(tabela)"
   ]
  },
  {
   "cell_type": "code",
   "execution_count": 47,
   "id": "4832ab20-dad0-4e8c-917a-e437158f7083",
   "metadata": {},
   "outputs": [],
   "source": [
    "def pivoteamento(linha, coluna):\n",
    "    global tabela\n",
    "    elemento_pivo = tabela[linha][coluna]\n",
    "    tabela[linha] = [v / elemento_pivo for v in tabela[linha]]\n",
    "\n",
    "    for r in range(len(tabela)):\n",
    "        if r == linha:\n",
    "            continue\n",
    "        fator = tabela[r][coluna]\n",
    "        tabela[r] = [\n",
    "            tabela[r][i] - fator * tabela[linha][i]\n",
    "            for i in range(len(tabela[0]))\n",
    "        ]"
   ]
  },
  {
   "cell_type": "code",
   "execution_count": 48,
   "id": "133de4cc-97eb-4ec9-84a2-6eb7484f350f",
   "metadata": {},
   "outputs": [
    {
     "name": "stdout",
     "output_type": "stream",
     "text": [
      "[[    0.5     1.      0.      8.      2.      0.     -0.5   250. ]\n",
      " [   -1.      0.      0.     -2.     -1.      1.      0.    350. ]\n",
      " [    0.5     0.      1.     -4.     -1.      0.      0.5     0. ]\n",
      " [    5.      0.      0.    144.     40.      0.     15.  17500. ]]\n"
     ]
    }
   ],
   "source": [
    "def resolver():\n",
    "    global tabela, variaveis_basicas\n",
    "\n",
    "    while True:\n",
    "        ultima_linha = tabela[-1][:-1]\n",
    "\n",
    "        if all(c >= 0 for c in ultima_linha):\n",
    "            break\n",
    "\n",
    "        coluna_pivo = ultima_linha.index(min(ultima_linha))\n",
    "        razoes = []\n",
    "\n",
    "        for i in range(num_restricoes):\n",
    "            if tabela[i][coluna_pivo] > 0:\n",
    "                razoes.append(tabela[i][-1] / tabela[i][coluna_pivo])\n",
    "            else:\n",
    "                razoes.append(float('inf'))\n",
    "\n",
    "        if all(r == float('inf') for r in razoes):\n",
    "            raise Exception(\"Solução ilimitada.\")\n",
    "\n",
    "        linha_pivo = razoes.index(min(razoes))\n",
    "        variaveis_basicas[linha_pivo] = coluna_pivo\n",
    "        pivoteamento(linha_pivo, coluna_pivo)\n",
    "\n",
    "resolver()\n",
    "imprimir_matriz(tabela)"
   ]
  },
  {
   "cell_type": "code",
   "execution_count": 49,
   "id": "c7241661-383d-4d71-96b4-85d81b37fc65",
   "metadata": {},
   "outputs": [
    {
     "name": "stdout",
     "output_type": "stream",
     "text": [
      "x1 = 0.00\n",
      "x2 = 250.00\n",
      "x3 = 0.00\n",
      "x4 = 0.00\n",
      "Lucro ótimo (Z) = 17500.00\n"
     ]
    }
   ],
   "source": [
    "def get_solucao():\n",
    "    solucao = [0.0] * (num_variaveis + num_restricoes)\n",
    "\n",
    "    for i, var in enumerate(variaveis_basicas):\n",
    "        solucao[var] = tabela[i][-1]\n",
    "\n",
    "    return solucao[:num_variaveis], tabela[-1][-1]\n",
    "\n",
    "solucao, valor_otimo = get_solucao()\n",
    "for i, val in enumerate(solucao):\n",
    "    print(f\"x{i + 1} = {val:.2f}\")\n",
    "print(f\"Lucro ótimo (Z) = {valor_otimo:.2f}\")"
   ]
  },
  {
   "cell_type": "code",
   "execution_count": 50,
   "id": "dbb8c82b-f4ce-44c4-a619-edd4f96d8ddc",
   "metadata": {},
   "outputs": [
    {
     "name": "stdout",
     "output_type": "stream",
     "text": [
      "Restrição 1: 40.00\n",
      "Restrição 2: 0.00\n",
      "Restrição 3: 15.00\n"
     ]
    }
   ],
   "source": [
    "def get_precos_sombra():\n",
    "    return tabela[-1][num_variaveis:num_variaveis + num_restricoes]\n",
    "    \n",
    "for i, ps in enumerate(get_precos_sombra()):\n",
    "    print(f\"Restrição {i + 1}: {ps:.2f}\")"
   ]
  },
  {
   "cell_type": "code",
   "execution_count": 52,
   "id": "c5492b44-5300-411a-b1dc-a1664ee10a97",
   "metadata": {},
   "outputs": [
    {
     "name": "stdout",
     "output_type": "stream",
     "text": [
      "\n",
      "Análise de variação:\n"
     ]
    },
    {
     "name": "stdin",
     "output_type": "stream",
     "text": [
      "Insira o Δ para cada restrição:  -25 -60 -50\n"
     ]
    },
    {
     "name": "stdout",
     "output_type": "stream",
     "text": [
      "\n",
      "Alterações viáveis.\n",
      "Novo lucro ótimo estimado: 15750.00\n"
     ]
    }
   ],
   "source": [
    "def analisar_variacao(delta_b):\n",
    "    novos_rhs = []\n",
    "    for i in range(num_restricoes):\n",
    "        temp = 0\n",
    "        for j in range(num_restricoes):\n",
    "            temp += tabela[i][j + len(funcao_objetivo)] * delta_b[j]\n",
    "        temp += tabela[i][-1]\n",
    "        novos_rhs.append(temp)\n",
    "\n",
    "    if all(novos_rhs[i] >= 0 for i in range(len(novos_rhs))):\n",
    "        precos_sombra = get_precos_sombra()\n",
    "        delta_z = sum(precos_sombra[i] * delta_b[i] for i in range(num_restricoes))\n",
    "        novo_z = tabela[-1][-1] + delta_z\n",
    "        return True, novo_z, precos_sombra, novos_rhs\n",
    "\n",
    "    return False, 0, [], novos_rhs\n",
    "    \n",
    "print(\"\\nAnálise de variação:\")\n",
    "delta_b = ler_float_lista(\"Insira o Δ para cada restrição: \", num_restricoes)\n",
    "viavel, novo_z, precos_sombra, resultados = analisar_variacao(delta_b)\n",
    "\n",
    "if viavel:\n",
    "    print(\"\\nAlterações viáveis.\")\n",
    "    print(f\"Novo lucro ótimo estimado: {novo_z:.2f}\")\n",
    "else:\n",
    "    print(f\"\\nA alteração não é viável ({resultados})\")"
   ]
  },
  {
   "cell_type": "code",
   "execution_count": 53,
   "id": "685fdb80-7a27-43e7-8ded-6177871538da",
   "metadata": {},
   "outputs": [
    {
     "name": "stdout",
     "output_type": "stream",
     "text": [
      "\n",
      "Solução ótima encontrada:\n",
      "  x1 = 0.0000\n",
      "  x2 = 250.0000\n",
      "  x3 = 0.0000\n",
      "  x4 = 0.0000\n",
      "  Lucro ótimo (Z) = 17500.0000\n",
      "\n",
      "Preços-sombra:\n",
      "  Restrição 1: 40.0000\n",
      "  Restrição 2: 0.0000\n",
      "  Restrição 3: 15.0000\n",
      "\n",
      "Análise de variação:\n",
      "  Alterações viáveis.\n",
      "  Novo lucro ótimo estimado: 15750.00\n"
     ]
    }
   ],
   "source": [
    "print(\"\\nSolução ótima encontrada:\")\n",
    "for i, val in enumerate(solucao):\n",
    "    print(f\"  x{i + 1} = {val:.4f}\")\n",
    "print(f\"  Lucro ótimo (Z) = {valor_otimo:.4f}\")\n",
    "print(\"\\nPreços-sombra:\")\n",
    "for i, ps in enumerate(get_precos_sombra()):\n",
    "    print(f\"  Restrição {i + 1}: {ps:.4f}\")\n",
    "\n",
    "print(\"\\nAnálise de variação:\")\n",
    "viavel, novo_z, precos_sombra, resultados = analisar_variacao(delta_b)\n",
    "\n",
    "if viavel:\n",
    "    print(\"  Alterações viáveis.\")\n",
    "    print(f\"  Novo lucro ótimo estimado: {novo_z:.2f}\")\n",
    "else:\n",
    "    print(f\"  A alteração não é viável ({resultados})\")"
   ]
  },
  {
   "cell_type": "code",
   "execution_count": null,
   "id": "8702d432-9ee7-4afd-b05a-ec1bda29f4ef",
   "metadata": {},
   "outputs": [],
   "source": []
  }
 ],
 "metadata": {
  "kernelspec": {
   "display_name": "Python 3 (ipykernel)",
   "language": "python",
   "name": "python3"
  },
  "language_info": {
   "codemirror_mode": {
    "name": "ipython",
    "version": 3
   },
   "file_extension": ".py",
   "mimetype": "text/x-python",
   "name": "python",
   "nbconvert_exporter": "python",
   "pygments_lexer": "ipython3",
   "version": "3.11.9"
  }
 },
 "nbformat": 4,
 "nbformat_minor": 5
}
