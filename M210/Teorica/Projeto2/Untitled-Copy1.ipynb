{
 "cells": [
  {
   "cell_type": "code",
   "execution_count": 1,
   "id": "fe1dd6df-cea7-4196-869b-884e14b7b07d",
   "metadata": {},
   "outputs": [],
   "source": [
    "def ler_float_lista(prompt, tamanho_esperado):\n",
    "    while True:\n",
    "        try:\n",
    "            valores = list(map(float, input(prompt).strip().split()))\n",
    "            if len(valores) != tamanho_esperado:\n",
    "                raise ValueError(f\"Insira {tamanho_esperado} valores.\")\n",
    "            return valores\n",
    "        except ValueError as e:\n",
    "            print(f\"Erro: {e}. Tente novamente.\")"
   ]
  },
  {
   "cell_type": "markdown",
   "id": "f88670d9-7dc4-4dfd-bb8c-7c1c7379799c",
   "metadata": {},
   "source": [
    "Z = 80\\*x1 + 70\\*x2 + 100\\*x3 + 16\\*x4\n",
    "\n",
    "x1 +  x2 +  x3 + 4x4 <= 250\n",
    "\n",
    "0x1 + x2 +  x3 + 2x4 <= 600\n",
    "      \n",
    "3x1 + 2x2 + 4x3      <= 500\n",
    "\n",
    "80 70 100 16\n",
    "\n",
    "1 1 1 4 <= 250\n",
    "\n",
    "0 1 1 2 <= 600\n",
    "\n",
    "3 2 4 0 <= 500"
   ]
  },
  {
   "cell_type": "code",
   "execution_count": 2,
   "id": "31543957-6953-471b-a687-4e51983bb8a0",
   "metadata": {},
   "outputs": [
    {
     "name": "stdout",
     "output_type": "stream",
     "text": [
      "RESOLUÇÃO DE PPL COM MÉTODO SIMPLEX (MAXIMIZAÇÃO)\n",
      "--------------------------------------------------\n"
     ]
    },
    {
     "name": "stdin",
     "output_type": "stream",
     "text": [
      "Insira o número de variáveis de decisão:  4\n",
      "Insira o número de restrições:  3\n"
     ]
    },
    {
     "name": "stdout",
     "output_type": "stream",
     "text": [
      "\n",
      "Digite os coeficientes da função objetivo separados por espaço:\n"
     ]
    },
    {
     "name": "stdin",
     "output_type": "stream",
     "text": [
      "Ex: 80 70 100 16\n",
      " 80 70 100 16\n"
     ]
    },
    {
     "name": "stdout",
     "output_type": "stream",
     "text": [
      "\n",
      "Agora insira as restrições no formato:\n",
      "a1 a2 a3 ... an (com coeficientes separados por espaço)\n",
      "  Restrição 1:\n"
     ]
    },
    {
     "name": "stdin",
     "output_type": "stream",
     "text": [
      "    Coeficientes da restrição:  1 1 1 4\n",
      "    Termo independente (lado direito):  250\n"
     ]
    },
    {
     "name": "stdout",
     "output_type": "stream",
     "text": [
      "  Restrição 2:\n"
     ]
    },
    {
     "name": "stdin",
     "output_type": "stream",
     "text": [
      "    Coeficientes da restrição:  0 1 1 2\n",
      "    Termo independente (lado direito):  600\n"
     ]
    },
    {
     "name": "stdout",
     "output_type": "stream",
     "text": [
      "  Restrição 3:\n"
     ]
    },
    {
     "name": "stdin",
     "output_type": "stream",
     "text": [
      "    Coeficientes da restrição:  3 2 4 0\n",
      "    Termo independente (lado direito):  500\n"
     ]
    }
   ],
   "source": [
    "print(\"RESOLUÇÃO DE PPL COM MÉTODO SIMPLEX (MAXIMIZAÇÃO)\")\n",
    "print(\"-\" * 50)\n",
    "\n",
    "num_variaveis = int(input(\"Insira o número de variáveis de decisão: \"))\n",
    "num_restricoes = int(input(\"Insira o número de restrições: \"))\n",
    "\n",
    "print(\"\\nDigite os coeficientes da função objetivo separados por espaço:\")\n",
    "c = ler_float_lista(\"Ex: 80 70 100 16\\n\", num_variaveis)\n",
    "\n",
    "A = []\n",
    "b = []\n",
    "print(\"\\nAgora insira as restrições no formato:\")\n",
    "print(\"a1 a2 a3 ... an (com coeficientes separados por espaço)\")\n",
    "\n",
    "for i in range(num_restricoes):\n",
    "    print(f\"  Restrição {i + 1}:\")\n",
    "    linha = ler_float_lista(\"    Coeficientes da restrição: \", num_variaveis)\n",
    "    bi = float(input(\"    Termo independente (lado direito): \"))\n",
    "    A.append(linha)\n",
    "    b.append(bi)"
   ]
  },
  {
   "cell_type": "code",
   "execution_count": 3,
   "id": "9fd6ff5a-cc5d-4fba-958b-70abe7dc8e93",
   "metadata": {},
   "outputs": [
    {
     "name": "stdout",
     "output_type": "stream",
     "text": [
      "[[   1.    1.    1.    4.    1.    0.    0.  250.]\n",
      " [   0.    1.    1.    2.    0.    1.    0.  600.]\n",
      " [   3.    2.    4.    0.    0.    0.    1.  500.]\n",
      " [ -80.  -70. -100.  -16.    0.    0.    0.    0.]]\n"
     ]
    }
   ],
   "source": [
    "import numpy as np\n",
    "np.set_printoptions(precision=2, suppress=True)\n",
    "\n",
    "def construir_tabela(c, A, b):\n",
    "    restricoes = [linha + [0] * i + [1] + [0] * (len(b) - i - 1) for i, linha in enumerate(A)]\n",
    "    tabela = [linha + [bi] for linha, bi in zip(restricoes, b)]\n",
    "    linha_objetivo = [-ci for ci in c] + [0] * len(b) + [0]\n",
    "    tabela.append(linha_objetivo)\n",
    "    \n",
    "    return tabela, len(c), len(b)\n",
    "\n",
    "tabela, num_variaveis, num_restricoes = construir_tabela(c, A, b)\n",
    "print(np.array(tabela))"
   ]
  },
  {
   "cell_type": "code",
   "execution_count": 4,
   "id": "c2ed846b-ff1a-4020-b133-652edb9d0eb3",
   "metadata": {},
   "outputs": [],
   "source": [
    "def pivoteamento(tabela, linha, coluna):\n",
    "    elemento_pivo = tabela[linha][coluna]\n",
    "    tabela[linha] = [v / elemento_pivo for v in tabela[linha]]\n",
    "\n",
    "    for r in range(len(tabela)):\n",
    "        if r == linha:\n",
    "            continue\n",
    "        fator = tabela[r][coluna]\n",
    "        tabela[r] = [tabela[r][i] - fator * tabela[linha][i] for i in range(len(tabela[0]))]"
   ]
  },
  {
   "cell_type": "code",
   "execution_count": 5,
   "id": "2b700058-110b-413c-8bcf-97f773c1e09d",
   "metadata": {},
   "outputs": [
    {
     "name": "stdout",
     "output_type": "stream",
     "text": [
      "[[    0.5     1.      0.      8.      2.      0.     -0.5   250. ]\n",
      " [   -1.      0.      0.     -2.     -1.      1.      0.    350. ]\n",
      " [    0.5     0.      1.     -4.     -1.      0.      0.5     0. ]\n",
      " [    5.      0.      0.    144.     40.      0.     15.  17500. ]]\n"
     ]
    }
   ],
   "source": [
    "def resolver(tabela, num_restricoes):\n",
    "    while True:\n",
    "        ultima_linha = tabela[-1][:-1]\n",
    "\n",
    "        if all(c >= 0 for c in ultima_linha):\n",
    "            break\n",
    "\n",
    "        coluna_pivo = ultima_linha.index(min(ultima_linha))\n",
    "        razoes = []\n",
    "\n",
    "        for i in range(num_restricoes):\n",
    "            if tabela[i][coluna_pivo] > 0:\n",
    "                razoes.append(tabela[i][-1] / tabela[i][coluna_pivo])\n",
    "            else:\n",
    "                razoes.append(float('inf'))\n",
    "\n",
    "        if all(r == float('inf') for r in razoes):\n",
    "            raise Exception(\"Solução ilimitada.\")\n",
    "\n",
    "        linha_pivo = razoes.index(min(razoes))\n",
    "        pivoteamento(tabela, linha_pivo, coluna_pivo)\n",
    "    \n",
    "    return tabela\n",
    "\n",
    "\n",
    "tabela = resolver(tabela, num_restricoes)\n",
    "print(np.array(tabela))"
   ]
  },
  {
   "cell_type": "code",
   "execution_count": 6,
   "id": "94e8ca83-8fee-41f1-8796-fd4544de24e5",
   "metadata": {},
   "outputs": [
    {
     "name": "stdout",
     "output_type": "stream",
     "text": [
      "[250.0, 350.0, 0.0, 0.0] 17500.0\n"
     ]
    }
   ],
   "source": [
    "def obter_solucao(tabela, num_variaveis, num_restricoes):\n",
    "    solucao = [0.0] * (num_variaveis + num_restricoes)\n",
    "\n",
    "    for i in range(num_restricoes):\n",
    "        solucao[i] = tabela[i][-1]\n",
    "\n",
    "    return solucao[:num_variaveis], tabela[-1][-1]\n",
    "    \n",
    "solucao, z = obter_solucao(tabela, num_variaveis, num_restricoes)\n",
    "print(solucao, z)"
   ]
  },
  {
   "cell_type": "code",
   "execution_count": 7,
   "id": "63c1e4e2-e5aa-4fb1-85a5-4546e4d697e7",
   "metadata": {},
   "outputs": [
    {
     "name": "stdout",
     "output_type": "stream",
     "text": [
      "[40.0, 0.0, 15.0]\n"
     ]
    }
   ],
   "source": [
    "def obter_precos_sombra(tabela, num_variaveis, num_restricoes):\n",
    "    return tabela[-1][num_variaveis:num_variaveis + num_restricoes]\n",
    "    \n",
    "precos_sombra = obter_precos_sombra(tabela, num_variaveis, num_restricoes)\n",
    "print(precos_sombra)"
   ]
  },
  {
   "cell_type": "code",
   "execution_count": 10,
   "id": "0fd0258c-8b52-4c7b-bc28-770a022dffbe",
   "metadata": {},
   "outputs": [
    {
     "name": "stdout",
     "output_type": "stream",
     "text": [
      "\n",
      "Análise de variação:\n",
      "  Deseja testar alterações no lado direito das restrições (Δb)? [S] [N]\n"
     ]
    },
    {
     "name": "stdin",
     "output_type": "stream",
     "text": [
      " s\n",
      "  Insira Δb para cada restrição:  -25 -60 -50\n"
     ]
    },
    {
     "name": "stdout",
     "output_type": "stream",
     "text": [
      "\n",
      "Alterações viáveis. ([225.0, 315.0, 0.0])\n",
      "  Novo lucro ótimo estimado: 15750.0000\n"
     ]
    }
   ],
   "source": [
    "def analisar_variacao(tabela, delta_b, num_variaveis, num_restricoes, funcao_objetivo):\n",
    "    novos_rhs = []\n",
    "    for i in range(num_restricoes):\n",
    "        temp = sum(tabela[i][j + len(funcao_objetivo)] * delta_b[j] for j in range(num_restricoes))\n",
    "        temp += tabela[i][-1]\n",
    "        novos_rhs.append(temp)\n",
    "\n",
    "    if all(novos_rhs[i] >= 0 for i in range(len(novos_rhs))):\n",
    "        precos_sombra = obter_precos_sombra(tabela, num_variaveis, num_restricoes)\n",
    "        delta_z = sum(precos_sombra[i] * delta_b[i] for i in range(num_restricoes))\n",
    "        novo_z = tabela[-1][-1] + delta_z\n",
    "        return True, novo_z, precos_sombra, novos_rhs\n",
    "\n",
    "    return False, 0, [], novos_rhs\n",
    "\n",
    "print(\"\\nAnálise de variação:\")\n",
    "print(\"  Deseja testar alterações no lado direito das restrições (Δb)? [S] [N]\")\n",
    "opcao_alteracao = input().strip().upper()\n",
    "\n",
    "delta_b = []\n",
    "viavel = False\n",
    "novo_z = 0\n",
    "if opcao_alteracao == \"S\":\n",
    "    delta_b = ler_float_lista(\"  Insira Δb para cada restrição: \", num_restricoes)\n",
    "    viavel, novo_z, precos_sombra, novos_rhs = analisar_variacao(tabela, delta_b, num_variaveis, num_restricoes, c)\n",
    "\n",
    "    if viavel:\n",
    "        print(f\"\\nAlterações viáveis. ({novos_rhs})\")\n",
    "        print(f\"  Novo lucro ótimo estimado: {novo_z:.4f}\")\n",
    "    else:\n",
    "        print(f\"\\nA alteração não é viável. ({novos_rhs})\")"
   ]
  },
  {
   "cell_type": "code",
   "execution_count": 15,
   "id": "263fd022-e2b2-456a-9560-b148dfcbbf91",
   "metadata": {},
   "outputs": [
    {
     "name": "stdout",
     "output_type": "stream",
     "text": [
      "Solução ótima: [250.0, 350.0, 0.0, 0.0]\n",
      "Valor ótimo: 17500.0\n",
      "Preços-sombra: [40.0, 0.0, 15.0]\n",
      "\n",
      "Alteracao feita: [-25.0, -60.0, -50.0]\n",
      "Alterações viáveis. ([225.0, 315.0, 0.0])\n",
      "Novo lucro ótimo estimado: 15750.0000\n"
     ]
    }
   ],
   "source": [
    "print(\"Solução ótima:\", solucao)\n",
    "print(\"Valor ótimo:\", z)\n",
    "print(\"Preços-sombra:\", precos_sombra)\n",
    "\n",
    "if opcao_alteracao == 'S':\n",
    "    if viavel:\n",
    "        print(f\"\\nAlteracao feita: {delta_b}\")\n",
    "        print(f\"Alterações viáveis. ({novos_rhs})\")\n",
    "        print(f\"Novo lucro ótimo estimado: {novo_z:.4f}\")\n",
    "    else:\n",
    "        print(f\"\\nA alteração não é viável. ({novos_rhs})\")"
   ]
  },
  {
   "cell_type": "code",
   "execution_count": null,
   "id": "cc70630e-a1f6-4998-97a0-7752c6a39cc1",
   "metadata": {},
   "outputs": [],
   "source": []
  }
 ],
 "metadata": {
  "kernelspec": {
   "display_name": "Python 3 (ipykernel)",
   "language": "python",
   "name": "python3"
  },
  "language_info": {
   "codemirror_mode": {
    "name": "ipython",
    "version": 3
   },
   "file_extension": ".py",
   "mimetype": "text/x-python",
   "name": "python",
   "nbconvert_exporter": "python",
   "pygments_lexer": "ipython3",
   "version": "3.11.9"
  }
 },
 "nbformat": 4,
 "nbformat_minor": 5
}
